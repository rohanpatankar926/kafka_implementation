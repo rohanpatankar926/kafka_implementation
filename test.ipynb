{
 "cells": [
  {
   "cell_type": "code",
   "execution_count": 12,
   "metadata": {},
   "outputs": [
    {
     "data": {
      "text/plain": [
       "(36188, 171)"
      ]
     },
     "execution_count": 12,
     "metadata": {},
     "output_type": "execute_result"
    }
   ],
   "source": [
    "import pandas as pd\n",
    "\n",
    "data=pd.read_csv(\"data/kafka_sensor_topic/data.csv\")\n",
    "data.shape"
   ]
  },
  {
   "cell_type": "code",
   "execution_count": 21,
   "metadata": {},
   "outputs": [],
   "source": [
    "import pandas as pd\n",
    "import json\n",
    "\n",
    "class Generic:\n",
    "    def __init__(self,record: dict) -> None:\n",
    "        for k,v in record.items():\n",
    "            setattr(self,k,v)\n",
    "\n",
    "    @classmethod\n",
    "    def dict_to_obj(data:dict):\n",
    "        return Generic(record=data)\n",
    "    \n",
    "    def to_dict(self):\n",
    "        return self.__dict__\n",
    "    \n",
    "    @classmethod\n",
    "    def get_object(cls,file_path):\n",
    "        chunk_df=pd.read_csv(file_path,chunksize=10)\n",
    "        print(chunk_df)\n",
    "        n_row=0\n",
    "        for df in chunk_df:\n",
    "            for data in df.values:\n",
    "                generic=Generic(dict(zip(df.columns,list(map(str,data)))))\n",
    "                n_row+=1\n",
    "                yield generic"
   ]
  },
  {
   "cell_type": "code",
   "execution_count": 23,
   "metadata": {},
   "outputs": [],
   "source": [
    "# generator=Generic.get_object(\"/Users/rohanpatankar/Sensor_Data_Pipeline1/data/kafka_sensor_topic/data.csv\")\n",
    "\n",
    "# for stream in generator:\n",
    "#     print(stream)"
   ]
  },
  {
   "cell_type": "code",
   "execution_count": 30,
   "metadata": {},
   "outputs": [],
   "source": [
    "data=next(pd.read_csv(\"/Users/rohanpatankar/Sensor_Data_Pipeline1/data/kafka_sensor_topic/data.csv\",chunksize=100)).columns"
   ]
  },
  {
   "cell_type": "code",
   "execution_count": 31,
   "metadata": {},
   "outputs": [
    {
     "data": {
      "text/plain": [
       "Index(['class', 'aa_000', 'ab_000', 'ac_000', 'ad_000', 'ae_000', 'af_000',\n",
       "       'ag_000', 'ag_001', 'ag_002',\n",
       "       ...\n",
       "       'ee_002', 'ee_003', 'ee_004', 'ee_005', 'ee_006', 'ee_007', 'ee_008',\n",
       "       'ee_009', 'ef_000', 'eg_000'],\n",
       "      dtype='object', length=171)"
      ]
     },
     "execution_count": 31,
     "metadata": {},
     "output_type": "execute_result"
    }
   ],
   "source": [
    "data"
   ]
  },
  {
   "cell_type": "code",
   "execution_count": 2,
   "metadata": {},
   "outputs": [],
   "source": [
    "class Generic:\n",
    "    def __init__(self,record: dict) -> None:\n",
    "        self.data=record\n",
    "\n",
    "    @classmethod\n",
    "    def dict_to_obj(data:dict):\n",
    "        return Generic(record=data)"
   ]
  },
  {
   "cell_type": "code",
   "execution_count": 10,
   "metadata": {},
   "outputs": [],
   "source": [
    "a=Generic({\"a\":\"b\"})"
   ]
  },
  {
   "cell_type": "code",
   "execution_count": 12,
   "metadata": {},
   "outputs": [
    {
     "data": {
      "text/plain": [
       "{'a': 'b'}"
      ]
     },
     "execution_count": 12,
     "metadata": {},
     "output_type": "execute_result"
    }
   ],
   "source": []
  },
  {
   "cell_type": "code",
   "execution_count": null,
   "metadata": {},
   "outputs": [],
   "source": []
  }
 ],
 "metadata": {
  "kernelspec": {
   "display_name": "data_pipeline_env",
   "language": "python",
   "name": "python3"
  },
  "language_info": {
   "codemirror_mode": {
    "name": "ipython",
    "version": 3
   },
   "file_extension": ".py",
   "mimetype": "text/x-python",
   "name": "python",
   "nbconvert_exporter": "python",
   "pygments_lexer": "ipython3",
   "version": "3.11.4"
  },
  "orig_nbformat": 4
 },
 "nbformat": 4,
 "nbformat_minor": 2
}
